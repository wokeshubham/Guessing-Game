{
 "cells": [
  {
   "cell_type": "markdown",
   "source": [
    "**This is a guessing game where the computer generates a random number between 1 and 200 and the user has to guess the random number. If the number guessed is too High or too Low, the computer says so until the user guesses correctly.**"
   ],
   "metadata": {}
  },
  {
   "cell_type": "code",
   "execution_count": 1,
   "source": [
    "import random"
   ],
   "outputs": [],
   "metadata": {}
  },
  {
   "cell_type": "code",
   "execution_count": 3,
   "source": [
    "def guess(x):\r\n",
    "    random_number = random.randint(1,x)\r\n",
    "    guess = 0\r\n",
    "    while guess != random_number:\r\n",
    "        guess = int(input(f\"Guess a number between 1 and {x}: \"))\r\n",
    "        if guess < random_number:\r\n",
    "            print(\"Sorry, Guess too Low\")\r\n",
    "        elif guess > random_number:\r\n",
    "            print(\"Sorry, Guess is too High\")\r\n",
    "    \r\n",
    "    print(f'Yay, congrats. You have guessed the number {random_number} correctly')\r\n",
    "\r\n",
    "guess(200)"
   ],
   "outputs": [
    {
     "output_type": "stream",
     "name": "stdout",
     "text": [
      "Sorry, Guess too Low\n",
      "Sorry, Guess is too High\n",
      "Sorry, Guess too Low\n",
      "Sorry, Guess too Low\n",
      "Sorry, Guess too Low\n",
      "Sorry, Guess is too High\n",
      "Sorry, Guess is too High\n",
      "Yay, congrats. You have guessed the number 146 correctly\n"
     ]
    }
   ],
   "metadata": {}
  },
  {
   "cell_type": "markdown",
   "source": [
    "**This is a guessing game where the user thinks of a number between 1 and 200 and the computer trys to guess the number. If the number is too Low or too high, the user says so until the cumputer guess the correct number.**"
   ],
   "metadata": {}
  },
  {
   "cell_type": "code",
   "execution_count": null,
   "source": [
    "def computer_guess(y):\r\n",
    "    low = 1\r\n",
    "    high = y\r\n",
    "    feedback = \"\"\r\n",
    "    while feedback != 'c':\r\n",
    "        if low != high:\r\n",
    "            guess = random.randint(low, high)\r\n",
    "        else:\r\n",
    "            guess = low\r\n",
    "        feedback = input(f'Is {guess} too High(H), too Low(L), or correct(C) ').lower\r\n",
    "        if feedback == 'h':\r\n",
    "            high = guess - 1\r\n",
    "        elif feedback == 'l':\r\n",
    "            low = guess + 1\r\n",
    "\r\n",
    "    print(f'Yay, congrats. The computer guessed your number {guess} correctly!')\r\n",
    "\r\n",
    "\r\n",
    "computer_guess(10)     "
   ],
   "outputs": [],
   "metadata": {}
  },
  {
   "cell_type": "markdown",
   "source": [
    "**Hey I'm Shubham. I'm trying to learn Python and this is an inital project that I made.**\r\n",
    "**Thank your for viewing this project till the end.**\r\n",
    "\r\n",
    "**Follow me on LinkedIn** > https://www.linkedin.com/in/wokeshubham\r\n",
    "\r\n",
    "**Follow me on Github** > https://www.github.com/wokeshubham\r\n",
    "\r\n",
    "**Follow me on Twitter** > https://www.twitter.com/wokeshubham"
   ],
   "metadata": {}
  }
 ],
 "metadata": {
  "orig_nbformat": 4,
  "language_info": {
   "name": "python",
   "version": "3.9.5",
   "mimetype": "text/x-python",
   "codemirror_mode": {
    "name": "ipython",
    "version": 3
   },
   "pygments_lexer": "ipython3",
   "nbconvert_exporter": "python",
   "file_extension": ".py"
  },
  "kernelspec": {
   "name": "python3",
   "display_name": "Python 3.9.5 64-bit"
  },
  "interpreter": {
   "hash": "1afba1360193b7fdd0836cfa2e682bfa6d6030ea15d1e751f02009cbe6e49f3f"
  }
 },
 "nbformat": 4,
 "nbformat_minor": 2
}